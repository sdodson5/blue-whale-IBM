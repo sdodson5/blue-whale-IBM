{
 "cells": [
  {
   "cell_type": "markdown",
   "id": "0845ce84",
   "metadata": {},
   "source": [
    "# Migration Statistics\n",
    "\n",
    "Compare median migration dates between modeled population and hydrophone data using the Mann-Whitney U-test"
   ]
  },
  {
   "cell_type": "code",
   "execution_count": 1,
   "id": "242a7728",
   "metadata": {},
   "outputs": [
    {
     "name": "stdout",
     "output_type": "stream",
     "text": [
      "[209. 219. 228. 229. 231. 233. 241. 247. 252. 255. 256. 259. 262. 262.\n",
      " 265. 269. 270. 270. 273. 277. 283.]\n",
      "[268 278 294 326 336 354]\n"
     ]
    }
   ],
   "source": [
    "# libraries\n",
    "import matplotlib.pyplot as plt\n",
    "import numpy as np\n",
    "from scipy.stats import mannwhitneyu\n",
    "\n",
    "# Import summary data from IBM\n",
    "\n",
    "# CSV data\n",
    "FEonly = np.loadtxt('summary_data/FE_a36_median_migDates.csv')\n",
    "socialFE = np.loadtxt('summary_data/socialFE_a36_median_migDates.csv')\n",
    "socialOnly = np.loadtxt('summary_data/social_a36_median_migDates.csv')\n",
    "FEminKrill = np.loadtxt('summary_data/FEminKrill_a36_median_migDates.csv')\n",
    "doyStats = np.loadtxt('summary_data/doy_a36_median_migDates.csv')\n",
    "\n",
    "hydroData = np.array([268, 278, 294, 336, 326, 354]) # hydrophone data\n",
    "\n",
    "print(np.sort(FEonly))\n",
    "print(np.sort(hydroData))\n"
   ]
  },
  {
   "cell_type": "code",
   "execution_count": 10,
   "id": "bd732ad6",
   "metadata": {},
   "outputs": [
    {
     "name": "stdout",
     "output_type": "stream",
     "text": [
      "FE-Only stat: 7.0\n",
      "FE-Only p-value: 0.00014864362690449647\n",
      "FE-Only U2 119.0\n"
     ]
    }
   ],
   "source": [
    "# FE (personal) compared to hydroData\n",
    "\n",
    "U1, p = mannwhitneyu(FEonly, hydroData, method=\"exact\",alternative='less')\n",
    "\n",
    "nx, ny = len(FEonly), len(hydroData)\n",
    "U2 = nx*ny - U1\n",
    "\n",
    "\n",
    "print(\"FE-Only stat:\",U1)\n",
    "print(\"FE-Only p-value:\",p)\n",
    "print(\"FE-Only U2\",U2)\n"
   ]
  },
  {
   "cell_type": "code",
   "execution_count": 8,
   "id": "d424b8c5",
   "metadata": {},
   "outputs": [
    {
     "name": "stdout",
     "output_type": "stream",
     "text": [
      "Social FE stat: 44.5\n",
      "Social FE p-value: 0.15817033208337555\n",
      "Social FE U2 81.5\n"
     ]
    }
   ],
   "source": [
    "# social FE (social-personal) compared to hydroData\n",
    "\n",
    "U1, p = mannwhitneyu(socialFE, hydroData, method=\"exact\",alternative='less')\n",
    "\n",
    "nx, ny = len(socialFE), len(hydroData)\n",
    "U2 = nx*ny - U1\n",
    "\n",
    "\n",
    "print(\"Social FE stat:\",U1)\n",
    "print(\"Social FE p-value:\",p)\n",
    "print(\"Social FE U2\",U2)\n"
   ]
  },
  {
   "cell_type": "code",
   "execution_count": 7,
   "id": "90ed24a0",
   "metadata": {},
   "outputs": [
    {
     "name": "stdout",
     "output_type": "stream",
     "text": [
      "Social Only stat: 44.0\n",
      "Social Only p-value: 0.1444849836154184\n",
      "Social Only U2 82.0\n"
     ]
    }
   ],
   "source": [
    "# social-only compared to hydroData\n",
    "\n",
    "U1, p = mannwhitneyu(socialOnly, hydroData, method=\"exact\",alternative='less')\n",
    "\n",
    "nx, ny = len(socialOnly), len(hydroData)\n",
    "U2 = nx*ny - U1\n",
    "\n",
    "\n",
    "print(\"Social Only stat:\",U1)\n",
    "print(\"Social Only p-value:\",p)\n",
    "print(\"Social Only U2\",U2)"
   ]
  },
  {
   "cell_type": "code",
   "execution_count": 2,
   "id": "e6770c47",
   "metadata": {},
   "outputs": [
    {
     "name": "stdout",
     "output_type": "stream",
     "text": [
      "FE min Krill stat: 19.0\n",
      "FE min Krill p-value: 0.0041586432890780714\n",
      "FE min Krill U2 107.0\n"
     ]
    }
   ],
   "source": [
    "# FE min Krill (personal & min Krill) compared to hydroData\n",
    "\n",
    "U1, p = mannwhitneyu(FEminKrill, hydroData, method=\"exact\",alternative='less')\n",
    "\n",
    "nx, ny = len(FEminKrill), len(hydroData)\n",
    "U2 = nx*ny - U1\n",
    "\n",
    "\n",
    "print(\"FE min Krill stat:\",U1)\n",
    "print(\"FE min Krill p-value:\",p)\n",
    "print(\"FE min Krill U2\",U2)"
   ]
  },
  {
   "cell_type": "code",
   "execution_count": 3,
   "id": "77ec513d",
   "metadata": {},
   "outputs": [
    {
     "name": "stdout",
     "output_type": "stream",
     "text": [
      "doy stat: 63.0\n",
      "doy p-value: 0.5113138069659809\n",
      "doy U2 63.0\n"
     ]
    }
   ],
   "source": [
    "# doy compared to hydroData\n",
    "\n",
    "U1, p = mannwhitneyu(doyStats, hydroData, method=\"exact\",alternative='less')\n",
    "\n",
    "nx, ny = len(doyStats), len(hydroData)\n",
    "U2 = nx*ny - U1\n",
    "\n",
    "\n",
    "print(\"doy stat:\",U1)\n",
    "print(\"doy p-value:\",p)\n",
    "print(\"doy U2\",U2)"
   ]
  },
  {
   "cell_type": "code",
   "execution_count": null,
   "id": "2ff6e315",
   "metadata": {},
   "outputs": [],
   "source": []
  }
 ],
 "metadata": {
  "kernelspec": {
   "display_name": "Python 3 (ipykernel)",
   "language": "python",
   "name": "python3"
  },
  "language_info": {
   "codemirror_mode": {
    "name": "ipython",
    "version": 3
   },
   "file_extension": ".py",
   "mimetype": "text/x-python",
   "name": "python",
   "nbconvert_exporter": "python",
   "pygments_lexer": "ipython3",
   "version": "3.10.8"
  }
 },
 "nbformat": 4,
 "nbformat_minor": 5
}
